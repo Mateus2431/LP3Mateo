{
 "cells": [
  {
   "cell_type": "markdown",
   "id": "0afc0404",
   "metadata": {},
   "source": [
    "# Algoritmo de Burbuja en Python"
   ]
  },
  {
   "cell_type": "code",
   "execution_count": 8,
   "id": "5fd4d96a",
   "metadata": {},
   "outputs": [],
   "source": [
    "def BurbleSort(arreglo):\n",
    "    n = len(arreglo)\n",
    "\n",
    "    for i in range(n-1):       # <-- bucle (i = n-1)\n",
    "        for j in range(n-1-i): # <-- bucle respecto (j = n-1-i)\n",
    "            if arreglo[j] > arreglo[j+1]:\n",
    "                arreglo[j], arreglo[j+1] = arreglo[j+1], arreglo[j] # Permutación\n",
    "\n",
    "elementos = [5, 4, 3, 1, 20]\n",
    "BurbleSort(elementos)"
   ]
  },
  {
   "cell_type": "code",
   "execution_count": 9,
   "id": "982eb717",
   "metadata": {},
   "outputs": [
    {
     "name": "stdout",
     "output_type": "stream",
     "text": [
      "[1, 3, 4, 5, 20]\n"
     ]
    }
   ],
   "source": [
    "print(elementos)"
   ]
  },
  {
   "cell_type": "markdown",
   "id": "1f6a567f",
   "metadata": {},
   "source": [
    "# Utilización de Constructores"
   ]
  },
  {
   "cell_type": "code",
   "execution_count": 16,
   "id": "76cae13a",
   "metadata": {},
   "outputs": [],
   "source": [
    "class cursos:\n",
    "    def __init__(self, codigo, nombre, horas, creditos):\n",
    "        self.codigo = codigo\n",
    "        self.nombre = nombre\n",
    "        self.horas = horas\n",
    "        self.creditos = creditos\n",
    "    def mostrar_datos_curso(self):\n",
    "        print(f\"Curso: {self.nombre}\")\n",
    "        print(f\"Código: {self.codigo}\")\n",
    "        print(f\"Horas: {self.horas}\")\n",
    "        print(f\"Créditos: {self.creditos}\")            "
   ]
  },
  {
   "cell_type": "code",
   "execution_count": 17,
   "id": "ae0ba917",
   "metadata": {},
   "outputs": [],
   "source": [
    "curso_n1 = cursos(\"C01\",\"LP3\",3,2)"
   ]
  },
  {
   "cell_type": "code",
   "execution_count": 18,
   "id": "ced3982b",
   "metadata": {},
   "outputs": [
    {
     "name": "stdout",
     "output_type": "stream",
     "text": [
      "Curso: LP3\n",
      "Código: C01\n",
      "Horas: 3\n",
      "Créditos: 2\n"
     ]
    }
   ],
   "source": [
    "curso_n1.mostrar_datos_curso();"
   ]
  },
  {
   "cell_type": "markdown",
   "id": "ab836a0e",
   "metadata": {},
   "source": [
    "# Impresión del Algoritmo de Burbuja"
   ]
  },
  {
   "cell_type": "code",
   "execution_count": 22,
   "id": "cfbafb78",
   "metadata": {},
   "outputs": [
    {
     "name": "stdout",
     "output_type": "stream",
     "text": [
      "La lista actual es [4, 5, 3, 1, 20] cuando i = 0 y j = 0\n",
      "\n",
      "La lista actual es [4, 3, 5, 1, 20] cuando i = 0 y j = 1\n",
      "\n",
      "La lista actual es [4, 3, 1, 5, 20] cuando i = 0 y j = 2\n",
      "\n",
      "La lista actual es [4, 3, 1, 5, 20] cuando i = 0 y j = 3\n",
      "\n",
      "La lista actual es [3, 4, 1, 5, 20] cuando i = 1 y j = 0\n",
      "\n",
      "La lista actual es [3, 1, 4, 5, 20] cuando i = 1 y j = 1\n",
      "\n",
      "La lista actual es [3, 1, 4, 5, 20] cuando i = 1 y j = 2\n",
      "\n",
      "La lista actual es [1, 3, 4, 5, 20] cuando i = 2 y j = 0\n",
      "\n",
      "La lista actual es [1, 3, 4, 5, 20] cuando i = 2 y j = 1\n",
      "\n",
      "La lista actual es [1, 3, 4, 5, 20] cuando i = 3 y j = 0\n",
      "\n"
     ]
    }
   ],
   "source": [
    "def BurbleSort_mostrar(arreglo):\n",
    "    n = len(arreglo)\n",
    "\n",
    "    for i in range(n-1):       # <-- bucle (i = n-1)\n",
    "        for j in range(n-1-i): # <-- bucle respecto (j = n-1-i)\n",
    "            if arreglo[j] > arreglo[j+1]:\n",
    "                arreglo[j], arreglo[j+1] = arreglo[j+1], arreglo[j] # Permutación\n",
    "            print(f\"La lista actual es {arreglo} cuando i = {i} y j = {j}\")\n",
    "            print()\n",
    "            \n",
    "elementos = [5, 4, 3, 1, 20]\n",
    "BurbleSort_mostrar(elementos)"
   ]
  },
  {
   "cell_type": "code",
   "execution_count": null,
   "id": "64522933",
   "metadata": {},
   "outputs": [],
   "source": []
  }
 ],
 "metadata": {
  "kernelspec": {
   "display_name": "Python 3 (ipykernel)",
   "language": "python",
   "name": "python3"
  },
  "language_info": {
   "codemirror_mode": {
    "name": "ipython",
    "version": 3
   },
   "file_extension": ".py",
   "mimetype": "text/x-python",
   "name": "python",
   "nbconvert_exporter": "python",
   "pygments_lexer": "ipython3",
   "version": "3.9.13"
  }
 },
 "nbformat": 4,
 "nbformat_minor": 5
}
