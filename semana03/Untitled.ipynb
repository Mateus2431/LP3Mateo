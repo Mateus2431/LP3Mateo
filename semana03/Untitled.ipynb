{
 "cells": [
  {
   "cell_type": "markdown",
   "id": "b56aba6d",
   "metadata": {},
   "source": [
    "# Algoritmo de Burbuja en Python"
   ]
  },
  {
   "cell_type": "code",
   "execution_count": 1,
   "id": "0ec9869a",
   "metadata": {},
   "outputs": [],
   "source": [
    "def ord_burbuja(arreglo):\n",
    "    n = len(arreglo)\n",
    "\n",
    "    for i in range(n-1):       # <-- bucle padre\n",
    "        for j in range(n-1-i): # <-- bucle hijo\n",
    "            if arreglo[j] > arreglo[j+1]:\n",
    "                arreglo[j], arreglo[j+1] = arreglo[j+1], arreglo[j]\n",
    "\n",
    "elementos = [8, 3, 1, 19, 14]\n",
    "ord_burbuja(elementos)"
   ]
  },
  {
   "cell_type": "code",
   "execution_count": 2,
   "id": "9bd272e1",
   "metadata": {},
   "outputs": [
    {
     "name": "stdout",
     "output_type": "stream",
     "text": [
      "[1, 3, 8, 14, 19]\n"
     ]
    }
   ],
   "source": [
    "print(elementos)"
   ]
  },
  {
   "cell_type": "code",
   "execution_count": null,
   "id": "1f9a29db",
   "metadata": {},
   "outputs": [],
   "source": []
  }
 ],
 "metadata": {
  "kernelspec": {
   "display_name": "Python 3 (ipykernel)",
   "language": "python",
   "name": "python3"
  },
  "language_info": {
   "codemirror_mode": {
    "name": "ipython",
    "version": 3
   },
   "file_extension": ".py",
   "mimetype": "text/x-python",
   "name": "python",
   "nbconvert_exporter": "python",
   "pygments_lexer": "ipython3",
   "version": "3.9.13"
  }
 },
 "nbformat": 4,
 "nbformat_minor": 5
}
