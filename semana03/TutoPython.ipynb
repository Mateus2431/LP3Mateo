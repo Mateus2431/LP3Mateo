{
 "cells": [
  {
   "cell_type": "markdown",
   "id": "3ecc5472",
   "metadata": {},
   "source": [
    "# Semana 03"
   ]
  },
  {
   "cell_type": "markdown",
   "id": "1e4c4bb6",
   "metadata": {},
   "source": [
    "1. Números"
   ]
  },
  {
   "cell_type": "code",
   "execution_count": 1,
   "id": "81f8df7c",
   "metadata": {},
   "outputs": [
    {
     "data": {
      "text/plain": [
       "8"
      ]
     },
     "execution_count": 1,
     "metadata": {},
     "output_type": "execute_result"
    }
   ],
   "source": [
    "2 + 6 "
   ]
  },
  {
   "cell_type": "code",
   "execution_count": 16,
   "id": "54dd79a5",
   "metadata": {},
   "outputs": [
    {
     "data": {
      "text/plain": [
       "40"
      ]
     },
     "execution_count": 16,
     "metadata": {},
     "output_type": "execute_result"
    }
   ],
   "source": [
    "4 * 5 + 20"
   ]
  },
  {
   "cell_type": "markdown",
   "id": "dcfa1040",
   "metadata": {},
   "source": [
    "2. Variables"
   ]
  },
  {
   "cell_type": "code",
   "execution_count": 2,
   "id": "98e7077b",
   "metadata": {},
   "outputs": [],
   "source": [
    "nombre = \"Fabian Mateo\""
   ]
  },
  {
   "cell_type": "code",
   "execution_count": 3,
   "id": "913bb0f6",
   "metadata": {},
   "outputs": [
    {
     "data": {
      "text/plain": [
       "'Fabian Mateo'"
      ]
     },
     "execution_count": 3,
     "metadata": {},
     "output_type": "execute_result"
    }
   ],
   "source": [
    "nombre"
   ]
  },
  {
   "cell_type": "code",
   "execution_count": 4,
   "id": "366800d0",
   "metadata": {},
   "outputs": [],
   "source": [
    "edad = 20"
   ]
  },
  {
   "cell_type": "code",
   "execution_count": 5,
   "id": "da2b8acc",
   "metadata": {},
   "outputs": [
    {
     "data": {
      "text/plain": [
       "20"
      ]
     },
     "execution_count": 5,
     "metadata": {},
     "output_type": "execute_result"
    }
   ],
   "source": [
    "edad"
   ]
  },
  {
   "cell_type": "code",
   "execution_count": 20,
   "id": "a42c3932",
   "metadata": {},
   "outputs": [],
   "source": [
    "nacionalidad = \"Peruano\""
   ]
  },
  {
   "cell_type": "code",
   "execution_count": 21,
   "id": "da0fb7ea",
   "metadata": {},
   "outputs": [
    {
     "data": {
      "text/plain": [
       "'Peruano'"
      ]
     },
     "execution_count": 21,
     "metadata": {},
     "output_type": "execute_result"
    }
   ],
   "source": [
    "nacionalidad"
   ]
  },
  {
   "cell_type": "code",
   "execution_count": 22,
   "id": "f732505c",
   "metadata": {},
   "outputs": [],
   "source": [
    "Datos_completos = nombre + \" es \" + nacionalidad"
   ]
  },
  {
   "cell_type": "code",
   "execution_count": 23,
   "id": "1e12886b",
   "metadata": {},
   "outputs": [
    {
     "data": {
      "text/plain": [
       "'Fabian Mateo es Peruano'"
      ]
     },
     "execution_count": 23,
     "metadata": {},
     "output_type": "execute_result"
    }
   ],
   "source": [
    "Datos_completos"
   ]
  },
  {
   "cell_type": "code",
   "execution_count": 12,
   "id": "4e0f4b06",
   "metadata": {},
   "outputs": [
    {
     "data": {
      "text/plain": [
       "int"
      ]
     },
     "execution_count": 12,
     "metadata": {},
     "output_type": "execute_result"
    }
   ],
   "source": [
    "type(edad)"
   ]
  },
  {
   "cell_type": "code",
   "execution_count": 13,
   "id": "16d6746c",
   "metadata": {},
   "outputs": [
    {
     "data": {
      "text/plain": [
       "str"
      ]
     },
     "execution_count": 13,
     "metadata": {},
     "output_type": "execute_result"
    }
   ],
   "source": [
    "type(nombre)"
   ]
  },
  {
   "cell_type": "code",
   "execution_count": 14,
   "id": "cde20a84",
   "metadata": {},
   "outputs": [],
   "source": [
    "talla = 1.68"
   ]
  },
  {
   "cell_type": "code",
   "execution_count": 15,
   "id": "13e287fa",
   "metadata": {},
   "outputs": [
    {
     "data": {
      "text/plain": [
       "float"
      ]
     },
     "execution_count": 15,
     "metadata": {},
     "output_type": "execute_result"
    }
   ],
   "source": [
    "type(talla)"
   ]
  },
  {
   "cell_type": "code",
   "execution_count": 17,
   "id": "2255abf3",
   "metadata": {},
   "outputs": [],
   "source": [
    "edad_str = str(edad)"
   ]
  },
  {
   "cell_type": "code",
   "execution_count": 28,
   "id": "b4b2974e",
   "metadata": {},
   "outputs": [],
   "source": [
    "Datos_completos_2 = nombre + \" es \" + nacionalidad + \" tiene \" + edad_str + \" años\""
   ]
  },
  {
   "cell_type": "code",
   "execution_count": 29,
   "id": "27f1246b",
   "metadata": {},
   "outputs": [
    {
     "data": {
      "text/plain": [
       "'Fabian Mateo es Peruano tiene 20 años'"
      ]
     },
     "execution_count": 29,
     "metadata": {},
     "output_type": "execute_result"
    }
   ],
   "source": [
    "Datos_completos_2"
   ]
  },
  {
   "cell_type": "markdown",
   "id": "ec908f7c",
   "metadata": {},
   "source": [
    "3. Manejo de Cadenas"
   ]
  },
  {
   "cell_type": "code",
   "execution_count": 30,
   "id": "6b71d3e7",
   "metadata": {},
   "outputs": [],
   "source": [
    "Cadena = \"Universidad Tecnológica\""
   ]
  },
  {
   "cell_type": "code",
   "execution_count": 31,
   "id": "0e0a0944",
   "metadata": {},
   "outputs": [
    {
     "data": {
      "text/plain": [
       "'Universidad Tecnológica'"
      ]
     },
     "execution_count": 31,
     "metadata": {},
     "output_type": "execute_result"
    }
   ],
   "source": [
    "Cadena"
   ]
  },
  {
   "cell_type": "code",
   "execution_count": 32,
   "id": "9e16bcf5",
   "metadata": {},
   "outputs": [
    {
     "data": {
      "text/plain": [
       "23"
      ]
     },
     "execution_count": 32,
     "metadata": {},
     "output_type": "execute_result"
    }
   ],
   "source": [
    "len(Cadena)"
   ]
  },
  {
   "cell_type": "code",
   "execution_count": 33,
   "id": "f93f5ee4",
   "metadata": {},
   "outputs": [
    {
     "data": {
      "text/plain": [
       "'UNIVERSIDAD TECNOLÓGICA'"
      ]
     },
     "execution_count": 33,
     "metadata": {},
     "output_type": "execute_result"
    }
   ],
   "source": [
    "Cadena.upper()"
   ]
  },
  {
   "cell_type": "code",
   "execution_count": 34,
   "id": "d653591a",
   "metadata": {},
   "outputs": [
    {
     "data": {
      "text/plain": [
       "'universidad tecnológica'"
      ]
     },
     "execution_count": 34,
     "metadata": {},
     "output_type": "execute_result"
    }
   ],
   "source": [
    "Cadena.lower()"
   ]
  },
  {
   "cell_type": "code",
   "execution_count": 35,
   "id": "e76a882d",
   "metadata": {},
   "outputs": [
    {
     "data": {
      "text/plain": [
       "['Universidad', 'Tecnológica']"
      ]
     },
     "execution_count": 35,
     "metadata": {},
     "output_type": "execute_result"
    }
   ],
   "source": [
    "Cadena.split()"
   ]
  },
  {
   "cell_type": "code",
   "execution_count": 36,
   "id": "ac38a7df",
   "metadata": {},
   "outputs": [
    {
     "data": {
      "text/plain": [
       "['Universid', 'd Tecnológic', '']"
      ]
     },
     "execution_count": 36,
     "metadata": {},
     "output_type": "execute_result"
    }
   ],
   "source": [
    "Cadena.split(\"a\")"
   ]
  },
  {
   "cell_type": "code",
   "execution_count": 39,
   "id": "d38fd323",
   "metadata": {},
   "outputs": [
    {
     "name": "stdout",
     "output_type": "stream",
     "text": [
      "Hola Fabian Mateo ya se que tienes 20 años\n"
     ]
    }
   ],
   "source": [
    "nombre = \"Fabian Mateo\"\n",
    "edad = 20\n",
    "print(\"Hola {} ya se que tienes {} años\".format(nombre,edad))"
   ]
  },
  {
   "cell_type": "code",
   "execution_count": 42,
   "id": "d7c56dc0",
   "metadata": {},
   "outputs": [
    {
     "name": "stdout",
     "output_type": "stream",
     "text": [
      "10/3 = 3.33333\n"
     ]
    }
   ],
   "source": [
    "resultado = 10/3\n",
    "print(\"10/3 = {r:1.5f}\".format(r=resultado))"
   ]
  },
  {
   "cell_type": "markdown",
   "id": "6926efed",
   "metadata": {},
   "source": [
    "4. Ingreso de Datos por el teclado"
   ]
  },
  {
   "cell_type": "code",
   "execution_count": null,
   "id": "ce409577",
   "metadata": {},
   "outputs": [],
   "source": [
    "#Uso de input-"
   ]
  },
  {
   "cell_type": "markdown",
   "id": "83a61b1b",
   "metadata": {},
   "source": [
    "5. Operadores de Asignación"
   ]
  },
  {
   "cell_type": "code",
   "execution_count": null,
   "id": "73d418e1",
   "metadata": {},
   "outputs": [],
   "source": [
    "#Se tiene: +, -, *, %, // (Cociente), ** (Potencia)\n",
    "#Operadores lógicos: and, or, not"
   ]
  }
 ],
 "metadata": {
  "kernelspec": {
   "display_name": "Python 3 (ipykernel)",
   "language": "python",
   "name": "python3"
  },
  "language_info": {
   "codemirror_mode": {
    "name": "ipython",
    "version": 3
   },
   "file_extension": ".py",
   "mimetype": "text/x-python",
   "name": "python",
   "nbconvert_exporter": "python",
   "pygments_lexer": "ipython3",
   "version": "3.9.13"
  }
 },
 "nbformat": 4,
 "nbformat_minor": 5
}
